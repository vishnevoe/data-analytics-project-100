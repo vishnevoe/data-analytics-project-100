{
 "cells": [
  {
   "cell_type": "code",
   "execution_count": 80,
   "id": "7243d4fb-6ef5-4904-ac5f-82b7ba022aac",
   "metadata": {},
   "outputs": [],
   "source": [
    "# подключение библиотек\n",
    "\n",
    "from dotenv import load_dotenv\n",
    "import os\n",
    "import pandas as pd\n",
    "import requests\n",
    "import json\n",
    "import matplotlib.pyplot as plt\n",
    "import seaborn as sns"
   ]
  },
  {
   "cell_type": "code",
   "execution_count": 81,
   "id": "09e356ff-1bf8-459c-8905-40a599e82dd9",
   "metadata": {},
   "outputs": [],
   "source": [
    "# получение переменных окружения\n",
    "\n",
    "load_dotenv()\n",
    "\n",
    "DATE_BEGIN = os.getenv('DATE_BEGIN')\n",
    "DATE_END = os.getenv('DATE_END')\n",
    "API_URL = os.getenv('API_URL')"
   ]
  },
  {
   "cell_type": "code",
   "execution_count": 82,
   "id": "790a6bbf-12d4-49bf-9a24-e407049ee395",
   "metadata": {},
   "outputs": [],
   "source": [
    "# получение по API данных о визитах за период: 2023-03-01-2023-09-01 \n",
    "\n",
    "r_visits = requests.get(f'{API_URL}/visits', params={'begin': DATE_BEGIN, 'end': DATE_END})\n",
    "if r_visits.status_code == 200:\n",
    "    data = r_visits.json()\n",
    "df_visits = pd.DataFrame(data)"
   ]
  },
  {
   "cell_type": "code",
   "execution_count": 83,
   "id": "945b4f5e-a5ab-47c6-833a-b626ec39c21a",
   "metadata": {},
   "outputs": [],
   "source": [
    "# получение по API данных о регистрациях за период: 2023-03-01-2023-09-01 \n",
    "\n",
    "r_regs = requests.get(f'{API_URL}/registrations', params={'begin': DATE_BEGIN, 'end': DATE_END})\n",
    "if r_regs.status_code == 200:\n",
    "    data = r_regs.json()\n",
    "df_regs = pd.DataFrame(data)"
   ]
  },
  {
   "cell_type": "markdown",
   "id": "f0f5a511-a386-4626-9ee8-2ef21adea814",
   "metadata": {},
   "source": [
    "<h2>Расчет метрик</h2>\n",
    "\n",
    "На этом этапе проведем расчет конверсии визитов в регистрации, почистим данные визитов от ботов, сагрерируем данные по дате и платформе а также сформируем датафрейм со следующими полями:\n",
    "- date_group — дата\n",
    "- platform — платформа (web, ios, android)\n",
    "- visits — визиты в дату\n",
    "- registrations — регистрации в дату\n",
    "- conversion — конверсия.\n",
    "\n",
    "Полученный датафрейм сохраним в формате JSON."
   ]
  },
  {
   "cell_type": "code",
   "execution_count": 84,
   "id": "b0519723-fd11-4aba-807a-695c419b61c1",
   "metadata": {},
   "outputs": [
    {
     "data": {
      "text/html": [
       "<div>\n",
       "<style scoped>\n",
       "    .dataframe tbody tr th:only-of-type {\n",
       "        vertical-align: middle;\n",
       "    }\n",
       "\n",
       "    .dataframe tbody tr th {\n",
       "        vertical-align: top;\n",
       "    }\n",
       "\n",
       "    .dataframe thead th {\n",
       "        text-align: right;\n",
       "    }\n",
       "</style>\n",
       "<table border=\"1\" class=\"dataframe\">\n",
       "  <thead>\n",
       "    <tr style=\"text-align: right;\">\n",
       "      <th></th>\n",
       "      <th>visit_id</th>\n",
       "      <th>platform</th>\n",
       "      <th>user_agent</th>\n",
       "      <th>datetime</th>\n",
       "      <th>visit_date</th>\n",
       "    </tr>\n",
       "  </thead>\n",
       "  <tbody>\n",
       "    <tr>\n",
       "      <th>135229</th>\n",
       "      <td>000012d3-f8c7-4257-8999-ad622b703492</td>\n",
       "      <td>android</td>\n",
       "      <td>Mozilla/5.0 (Linux; Android 10; K) AppleWebKit...</td>\n",
       "      <td>2023-06-06T20:32:30</td>\n",
       "      <td>2023-06-06 20:32:30</td>\n",
       "    </tr>\n",
       "    <tr>\n",
       "      <th>236538</th>\n",
       "      <td>0000164b-36eb-409a-8ab4-4acc25e5f3de</td>\n",
       "      <td>web</td>\n",
       "      <td>Mozilla/5.0 (X11; Ubuntu; Linux x86_64; rv:109...</td>\n",
       "      <td>2023-08-16T11:36:01</td>\n",
       "      <td>2023-08-16 11:36:01</td>\n",
       "    </tr>\n",
       "    <tr>\n",
       "      <th>171099</th>\n",
       "      <td>0000190e-e494-4fe1-876f-0dc2b4e1be1c</td>\n",
       "      <td>web</td>\n",
       "      <td>Mozilla/5.0 (Windows NT 10.0; Win64; x64) Appl...</td>\n",
       "      <td>2023-07-02T18:49:04</td>\n",
       "      <td>2023-07-02 18:49:04</td>\n",
       "    </tr>\n",
       "    <tr>\n",
       "      <th>258645</th>\n",
       "      <td>000063a2-6a6c-466a-b7e5-781568668a6b</td>\n",
       "      <td>web</td>\n",
       "      <td>Mozilla/5.0 (Windows NT 10.0; Win64; x64; rv:1...</td>\n",
       "      <td>2023-08-29T20:14:40</td>\n",
       "      <td>2023-08-29 20:14:40</td>\n",
       "    </tr>\n",
       "    <tr>\n",
       "      <th>170241</th>\n",
       "      <td>0000b829-7f90-4a38-b831-9b314ecfd8b5</td>\n",
       "      <td>web</td>\n",
       "      <td>Mozilla/5.0 (Windows NT 10.0; Win64; x64; rv:1...</td>\n",
       "      <td>2023-07-02T07:20:46</td>\n",
       "      <td>2023-07-02 07:20:46</td>\n",
       "    </tr>\n",
       "  </tbody>\n",
       "</table>\n",
       "</div>"
      ],
      "text/plain": [
       "                                    visit_id platform  \\\n",
       "135229  000012d3-f8c7-4257-8999-ad622b703492  android   \n",
       "236538  0000164b-36eb-409a-8ab4-4acc25e5f3de      web   \n",
       "171099  0000190e-e494-4fe1-876f-0dc2b4e1be1c      web   \n",
       "258645  000063a2-6a6c-466a-b7e5-781568668a6b      web   \n",
       "170241  0000b829-7f90-4a38-b831-9b314ecfd8b5      web   \n",
       "\n",
       "                                               user_agent  \\\n",
       "135229  Mozilla/5.0 (Linux; Android 10; K) AppleWebKit...   \n",
       "236538  Mozilla/5.0 (X11; Ubuntu; Linux x86_64; rv:109...   \n",
       "171099  Mozilla/5.0 (Windows NT 10.0; Win64; x64) Appl...   \n",
       "258645  Mozilla/5.0 (Windows NT 10.0; Win64; x64; rv:1...   \n",
       "170241  Mozilla/5.0 (Windows NT 10.0; Win64; x64; rv:1...   \n",
       "\n",
       "                   datetime          visit_date  \n",
       "135229  2023-06-06T20:32:30 2023-06-06 20:32:30  \n",
       "236538  2023-08-16T11:36:01 2023-08-16 11:36:01  \n",
       "171099  2023-07-02T18:49:04 2023-07-02 18:49:04  \n",
       "258645  2023-08-29T20:14:40 2023-08-29 20:14:40  \n",
       "170241  2023-07-02T07:20:46 2023-07-02 07:20:46  "
      ]
     },
     "execution_count": 84,
     "metadata": {},
     "output_type": "execute_result"
    }
   ],
   "source": [
    "# очистка данных по визитам\n",
    "\n",
    "def clean_visits(df):\n",
    "    df_clean = df.copy()\n",
    "    \n",
    "    df_clean['visit_date'] = pd.to_datetime(df['datetime'])\n",
    "    \n",
    "    df_clean = df_clean.sort_values(by=['visit_id', 'visit_date']).drop_duplicates(subset=['visit_id'], keep='last')\n",
    "    df_clean['platform'] = df_clean['platform'].str.strip(\"`\")\n",
    "    df_clean = df_clean[~df_clean['user_agent'].str.contains('bot')]\n",
    "    return df_clean\n",
    "df_clean_visits = clean_visits(df_visits)\n",
    "df_clean_visits.head()"
   ]
  },
  {
   "cell_type": "code",
   "execution_count": 85,
   "id": "9a602c0e-34fe-44a0-a18a-11c0a9a3ee0c",
   "metadata": {},
   "outputs": [],
   "source": [
    "# очистка данных по регистрациям\n",
    "\n",
    "def clean_regs(df):\n",
    "    df_copy = df.copy()\n",
    "    df_clean = df_copy.drop_duplicates()\n",
    "\n",
    "    # вместо пустых значений поставить \"web\", т.к. пустые значение являются признаком органики \n",
    "    df_clean['platform'] = df_clean['platform'].fillna('web')\n",
    "    \n",
    "    df_clean['reg_date'] = pd.to_datetime(df['datetime'])\n",
    "    return df_clean\n",
    "df_clean_regs = clean_regs(df_regs)"
   ]
  },
  {
   "cell_type": "code",
   "execution_count": 86,
   "id": "a6457d78-a28a-4fc3-a095-0f39c6b66bbb",
   "metadata": {},
   "outputs": [
    {
     "data": {
      "text/html": [
       "<div>\n",
       "<style scoped>\n",
       "    .dataframe tbody tr th:only-of-type {\n",
       "        vertical-align: middle;\n",
       "    }\n",
       "\n",
       "    .dataframe tbody tr th {\n",
       "        vertical-align: top;\n",
       "    }\n",
       "\n",
       "    .dataframe thead th {\n",
       "        text-align: right;\n",
       "    }\n",
       "</style>\n",
       "<table border=\"1\" class=\"dataframe\">\n",
       "  <thead>\n",
       "    <tr style=\"text-align: right;\">\n",
       "      <th></th>\n",
       "      <th>date_group</th>\n",
       "      <th>platform</th>\n",
       "      <th>visits</th>\n",
       "    </tr>\n",
       "  </thead>\n",
       "  <tbody>\n",
       "    <tr>\n",
       "      <th>0</th>\n",
       "      <td>2023-03-01</td>\n",
       "      <td>android</td>\n",
       "      <td>75</td>\n",
       "    </tr>\n",
       "    <tr>\n",
       "      <th>1</th>\n",
       "      <td>2023-03-01</td>\n",
       "      <td>ios</td>\n",
       "      <td>22</td>\n",
       "    </tr>\n",
       "    <tr>\n",
       "      <th>2</th>\n",
       "      <td>2023-03-01</td>\n",
       "      <td>web</td>\n",
       "      <td>279</td>\n",
       "    </tr>\n",
       "    <tr>\n",
       "      <th>3</th>\n",
       "      <td>2023-03-02</td>\n",
       "      <td>android</td>\n",
       "      <td>67</td>\n",
       "    </tr>\n",
       "    <tr>\n",
       "      <th>4</th>\n",
       "      <td>2023-03-02</td>\n",
       "      <td>ios</td>\n",
       "      <td>31</td>\n",
       "    </tr>\n",
       "  </tbody>\n",
       "</table>\n",
       "</div>"
      ],
      "text/plain": [
       "   date_group platform  visits\n",
       "0  2023-03-01  android      75\n",
       "1  2023-03-01      ios      22\n",
       "2  2023-03-01      web     279\n",
       "3  2023-03-02  android      67\n",
       "4  2023-03-02      ios      31"
      ]
     },
     "execution_count": 86,
     "metadata": {},
     "output_type": "execute_result"
    }
   ],
   "source": [
    "# фильтрация и агрегация данных по визитам\n",
    "\n",
    "def filt_and_agg_visits(df):\n",
    "    df_clean_visits['date_group'] = df_clean_visits['visit_date'].dt.to_period('D')\n",
    "    df_agg = df_clean_visits.groupby(['date_group', 'platform']).size().reset_index(name='visits')\n",
    "    return df_agg\n",
    "agg_visits = filt_and_agg_visits(df_clean_visits)\n",
    "agg_visits.head()\n"
   ]
  },
  {
   "cell_type": "code",
   "execution_count": 87,
   "id": "f4f95a96-8705-45c1-b9da-21c1c2032930",
   "metadata": {},
   "outputs": [
    {
     "data": {
      "text/html": [
       "<div>\n",
       "<style scoped>\n",
       "    .dataframe tbody tr th:only-of-type {\n",
       "        vertical-align: middle;\n",
       "    }\n",
       "\n",
       "    .dataframe tbody tr th {\n",
       "        vertical-align: top;\n",
       "    }\n",
       "\n",
       "    .dataframe thead th {\n",
       "        text-align: right;\n",
       "    }\n",
       "</style>\n",
       "<table border=\"1\" class=\"dataframe\">\n",
       "  <thead>\n",
       "    <tr style=\"text-align: right;\">\n",
       "      <th></th>\n",
       "      <th>date_group</th>\n",
       "      <th>platform</th>\n",
       "      <th>registrations</th>\n",
       "    </tr>\n",
       "  </thead>\n",
       "  <tbody>\n",
       "    <tr>\n",
       "      <th>0</th>\n",
       "      <td>2023-03-01</td>\n",
       "      <td>android</td>\n",
       "      <td>61</td>\n",
       "    </tr>\n",
       "    <tr>\n",
       "      <th>1</th>\n",
       "      <td>2023-03-01</td>\n",
       "      <td>ios</td>\n",
       "      <td>18</td>\n",
       "    </tr>\n",
       "    <tr>\n",
       "      <th>2</th>\n",
       "      <td>2023-03-01</td>\n",
       "      <td>web</td>\n",
       "      <td>8</td>\n",
       "    </tr>\n",
       "    <tr>\n",
       "      <th>3</th>\n",
       "      <td>2023-03-02</td>\n",
       "      <td>android</td>\n",
       "      <td>59</td>\n",
       "    </tr>\n",
       "    <tr>\n",
       "      <th>4</th>\n",
       "      <td>2023-03-02</td>\n",
       "      <td>ios</td>\n",
       "      <td>24</td>\n",
       "    </tr>\n",
       "  </tbody>\n",
       "</table>\n",
       "</div>"
      ],
      "text/plain": [
       "   date_group platform  registrations\n",
       "0  2023-03-01  android             61\n",
       "1  2023-03-01      ios             18\n",
       "2  2023-03-01      web              8\n",
       "3  2023-03-02  android             59\n",
       "4  2023-03-02      ios             24"
      ]
     },
     "execution_count": 87,
     "metadata": {},
     "output_type": "execute_result"
    }
   ],
   "source": [
    "# фильтрация и агрегация данных по регистрациям\n",
    "\n",
    "def filt_and_agg_regs(df):\n",
    "    df_clean_regs['date_group'] = df_clean_regs['reg_date'].dt.to_period('D')\n",
    "    df_agg = df_clean_regs.groupby(['date_group', 'platform']).size().reset_index(name='registrations')\n",
    "    df_agg = df_agg.sort_values(by='date_group')\n",
    "    return df_agg\n",
    "\n",
    "agg_regs = filt_and_agg_regs(df_clean_regs)\n",
    "agg_regs.head()"
   ]
  },
  {
   "cell_type": "code",
   "execution_count": 88,
   "id": "42d44b88-dc3d-4128-a2ed-91c8abc450f4",
   "metadata": {},
   "outputs": [
    {
     "data": {
      "text/html": [
       "<div>\n",
       "<style scoped>\n",
       "    .dataframe tbody tr th:only-of-type {\n",
       "        vertical-align: middle;\n",
       "    }\n",
       "\n",
       "    .dataframe tbody tr th {\n",
       "        vertical-align: top;\n",
       "    }\n",
       "\n",
       "    .dataframe thead th {\n",
       "        text-align: right;\n",
       "    }\n",
       "</style>\n",
       "<table border=\"1\" class=\"dataframe\">\n",
       "  <thead>\n",
       "    <tr style=\"text-align: right;\">\n",
       "      <th></th>\n",
       "      <th>date_group</th>\n",
       "      <th>platform</th>\n",
       "      <th>visits</th>\n",
       "      <th>registrations</th>\n",
       "      <th>conversion</th>\n",
       "    </tr>\n",
       "  </thead>\n",
       "  <tbody>\n",
       "    <tr>\n",
       "      <th>0</th>\n",
       "      <td>2023-03-01</td>\n",
       "      <td>android</td>\n",
       "      <td>75</td>\n",
       "      <td>61</td>\n",
       "      <td>81.333333</td>\n",
       "    </tr>\n",
       "    <tr>\n",
       "      <th>1</th>\n",
       "      <td>2023-03-01</td>\n",
       "      <td>ios</td>\n",
       "      <td>22</td>\n",
       "      <td>18</td>\n",
       "      <td>81.818182</td>\n",
       "    </tr>\n",
       "    <tr>\n",
       "      <th>2</th>\n",
       "      <td>2023-03-01</td>\n",
       "      <td>web</td>\n",
       "      <td>279</td>\n",
       "      <td>8</td>\n",
       "      <td>2.867384</td>\n",
       "    </tr>\n",
       "    <tr>\n",
       "      <th>3</th>\n",
       "      <td>2023-03-02</td>\n",
       "      <td>android</td>\n",
       "      <td>67</td>\n",
       "      <td>59</td>\n",
       "      <td>88.059701</td>\n",
       "    </tr>\n",
       "    <tr>\n",
       "      <th>4</th>\n",
       "      <td>2023-03-02</td>\n",
       "      <td>ios</td>\n",
       "      <td>31</td>\n",
       "      <td>24</td>\n",
       "      <td>77.419355</td>\n",
       "    </tr>\n",
       "  </tbody>\n",
       "</table>\n",
       "</div>"
      ],
      "text/plain": [
       "   date_group platform  visits  registrations  conversion\n",
       "0  2023-03-01  android      75             61   81.333333\n",
       "1  2023-03-01      ios      22             18   81.818182\n",
       "2  2023-03-01      web     279              8    2.867384\n",
       "3  2023-03-02  android      67             59   88.059701\n",
       "4  2023-03-02      ios      31             24   77.419355"
      ]
     },
     "execution_count": 88,
     "metadata": {},
     "output_type": "execute_result"
    }
   ],
   "source": [
    "# объединение двух датасетов и подсчет конверсии\n",
    "\n",
    "def merge_dataframes_and_add_conv(df, df1):\n",
    "    merged_df = pd.merge(df, df1, on=['date_group', 'platform'])\n",
    "    merged_df['conversion'] = (merged_df['registrations'] / merged_df['visits'] * 100)\n",
    "    merged_df['date_group'] = merged_df['date_group'].dt.strftime('%Y-%m-%d')\n",
    "    merged_df.to_json('conversion.json')\n",
    "    return merged_df\n",
    "\n",
    "agg_visits_regs = merge_dataframes_and_add_conv(agg_visits, agg_regs)\n",
    "agg_visits_regs.head()"
   ]
  },
  {
   "cell_type": "markdown",
   "id": "982ae7ce-7f68-4637-94ba-2f8ecae3fb14",
   "metadata": {},
   "source": [
    "<h2> Добавление рекламных данных </h2>\n",
    "\n",
    "Добавим к имеющимся данным данные по рекламным кампаниям, сформируем датафрейм с полями:\n",
    "- date_group — дата\n",
    "- visits — визиты на  определенную дату\n",
    "- registrations — регистрации в определенную дату\n",
    "- cost — затраты на рекламу (0, если не было затрат)\n",
    "- utm_campaign — название рекламной кампании (none, если не было в этот период рекламы)\n",
    "\n",
    "Полученный датафрейм сохраним в формате JSON."
   ]
  },
  {
   "cell_type": "code",
   "execution_count": 89,
   "id": "81fe12b2-bac5-4374-a95b-0079a9faafd9",
   "metadata": {},
   "outputs": [
    {
     "data": {
      "text/html": [
       "<div>\n",
       "<style scoped>\n",
       "    .dataframe tbody tr th:only-of-type {\n",
       "        vertical-align: middle;\n",
       "    }\n",
       "\n",
       "    .dataframe tbody tr th {\n",
       "        vertical-align: top;\n",
       "    }\n",
       "\n",
       "    .dataframe thead th {\n",
       "        text-align: right;\n",
       "    }\n",
       "</style>\n",
       "<table border=\"1\" class=\"dataframe\">\n",
       "  <thead>\n",
       "    <tr style=\"text-align: right;\">\n",
       "      <th></th>\n",
       "      <th>date</th>\n",
       "      <th>utm_source</th>\n",
       "      <th>utm_medium</th>\n",
       "      <th>utm_campaign</th>\n",
       "      <th>cost</th>\n",
       "    </tr>\n",
       "  </thead>\n",
       "  <tbody>\n",
       "    <tr>\n",
       "      <th>0</th>\n",
       "      <td>2023-03-01T10:54:41</td>\n",
       "      <td>google</td>\n",
       "      <td>cpc</td>\n",
       "      <td>advanced_algorithms_series</td>\n",
       "      <td>212</td>\n",
       "    </tr>\n",
       "    <tr>\n",
       "      <th>1</th>\n",
       "      <td>2023-03-02T10:32:35</td>\n",
       "      <td>google</td>\n",
       "      <td>cpc</td>\n",
       "      <td>advanced_algorithms_series</td>\n",
       "      <td>252</td>\n",
       "    </tr>\n",
       "    <tr>\n",
       "      <th>2</th>\n",
       "      <td>2023-03-03T19:21:40</td>\n",
       "      <td>google</td>\n",
       "      <td>cpc</td>\n",
       "      <td>advanced_algorithms_series</td>\n",
       "      <td>202</td>\n",
       "    </tr>\n",
       "    <tr>\n",
       "      <th>3</th>\n",
       "      <td>2023-03-04T17:52:04</td>\n",
       "      <td>google</td>\n",
       "      <td>cpc</td>\n",
       "      <td>advanced_algorithms_series</td>\n",
       "      <td>223</td>\n",
       "    </tr>\n",
       "    <tr>\n",
       "      <th>4</th>\n",
       "      <td>2023-03-05T05:35:13</td>\n",
       "      <td>google</td>\n",
       "      <td>cpc</td>\n",
       "      <td>advanced_algorithms_series</td>\n",
       "      <td>265</td>\n",
       "    </tr>\n",
       "  </tbody>\n",
       "</table>\n",
       "</div>"
      ],
      "text/plain": [
       "                  date utm_source utm_medium                utm_campaign  cost\n",
       "0  2023-03-01T10:54:41     google        cpc  advanced_algorithms_series   212\n",
       "1  2023-03-02T10:32:35     google        cpc  advanced_algorithms_series   252\n",
       "2  2023-03-03T19:21:40     google        cpc  advanced_algorithms_series   202\n",
       "3  2023-03-04T17:52:04     google        cpc  advanced_algorithms_series   223\n",
       "4  2023-03-05T05:35:13     google        cpc  advanced_algorithms_series   265"
      ]
     },
     "execution_count": 89,
     "metadata": {},
     "output_type": "execute_result"
    }
   ],
   "source": [
    "# очистка данных по рекламным кампаниям\n",
    "ads = pd.read_csv('ads.csv')\n",
    "ads.head()"
   ]
  },
  {
   "cell_type": "code",
   "execution_count": 90,
   "id": "07819ebd-9497-4d73-b14f-7dd65aa8b193",
   "metadata": {},
   "outputs": [
    {
     "data": {
      "text/html": [
       "<div>\n",
       "<style scoped>\n",
       "    .dataframe tbody tr th:only-of-type {\n",
       "        vertical-align: middle;\n",
       "    }\n",
       "\n",
       "    .dataframe tbody tr th {\n",
       "        vertical-align: top;\n",
       "    }\n",
       "\n",
       "    .dataframe thead th {\n",
       "        text-align: right;\n",
       "    }\n",
       "</style>\n",
       "<table border=\"1\" class=\"dataframe\">\n",
       "  <thead>\n",
       "    <tr style=\"text-align: right;\">\n",
       "      <th></th>\n",
       "      <th>date_group</th>\n",
       "      <th>utm_source</th>\n",
       "      <th>utm_medium</th>\n",
       "      <th>utm_campaign</th>\n",
       "      <th>cost</th>\n",
       "    </tr>\n",
       "  </thead>\n",
       "  <tbody>\n",
       "    <tr>\n",
       "      <th>0</th>\n",
       "      <td>2023-03-01</td>\n",
       "      <td>google</td>\n",
       "      <td>cpc</td>\n",
       "      <td>advanced_algorithms_series</td>\n",
       "      <td>212</td>\n",
       "    </tr>\n",
       "    <tr>\n",
       "      <th>1</th>\n",
       "      <td>2023-03-02</td>\n",
       "      <td>google</td>\n",
       "      <td>cpc</td>\n",
       "      <td>advanced_algorithms_series</td>\n",
       "      <td>252</td>\n",
       "    </tr>\n",
       "    <tr>\n",
       "      <th>2</th>\n",
       "      <td>2023-03-03</td>\n",
       "      <td>google</td>\n",
       "      <td>cpc</td>\n",
       "      <td>advanced_algorithms_series</td>\n",
       "      <td>202</td>\n",
       "    </tr>\n",
       "    <tr>\n",
       "      <th>3</th>\n",
       "      <td>2023-03-04</td>\n",
       "      <td>google</td>\n",
       "      <td>cpc</td>\n",
       "      <td>advanced_algorithms_series</td>\n",
       "      <td>223</td>\n",
       "    </tr>\n",
       "    <tr>\n",
       "      <th>4</th>\n",
       "      <td>2023-03-05</td>\n",
       "      <td>google</td>\n",
       "      <td>cpc</td>\n",
       "      <td>advanced_algorithms_series</td>\n",
       "      <td>265</td>\n",
       "    </tr>\n",
       "  </tbody>\n",
       "</table>\n",
       "</div>"
      ],
      "text/plain": [
       "   date_group utm_source utm_medium                utm_campaign  cost\n",
       "0  2023-03-01     google        cpc  advanced_algorithms_series   212\n",
       "1  2023-03-02     google        cpc  advanced_algorithms_series   252\n",
       "2  2023-03-03     google        cpc  advanced_algorithms_series   202\n",
       "3  2023-03-04     google        cpc  advanced_algorithms_series   223\n",
       "4  2023-03-05     google        cpc  advanced_algorithms_series   265"
      ]
     },
     "execution_count": 90,
     "metadata": {},
     "output_type": "execute_result"
    }
   ],
   "source": [
    "def clean_ads(df):\n",
    "    df_copy = df.copy()\n",
    "    df_clean = df_copy.drop_duplicates()\n",
    "    df_clean['date'] = pd.to_datetime(df_clean['date'], format='mixed') # тип данных \"объект\" преобразуем в datetime\n",
    "    df_clean['date'] = df_clean['date'].dt.to_period('D').dt.start_time.dt.date # удаляем время, оставляем только дату, уст. врем. метки на начало дня\n",
    "    df_clean = df_clean.rename(columns={'date': 'date_group'})\n",
    "    df_clean['utm_campaign'] = df_clean['utm_campaign'].fillna('none')\n",
    "    df_clean['cost'] = df_clean['cost'].fillna('0')\n",
    "    return  df_clean\n",
    "\n",
    "clean_ads = clean_ads(ads)\n",
    "clean_ads.head()   "
   ]
  },
  {
   "cell_type": "code",
   "execution_count": 91,
   "id": "ab0371bc-0daf-452e-8cb1-1cf764c288d1",
   "metadata": {},
   "outputs": [
    {
     "data": {
      "text/html": [
       "<div>\n",
       "<style scoped>\n",
       "    .dataframe tbody tr th:only-of-type {\n",
       "        vertical-align: middle;\n",
       "    }\n",
       "\n",
       "    .dataframe tbody tr th {\n",
       "        vertical-align: top;\n",
       "    }\n",
       "\n",
       "    .dataframe thead th {\n",
       "        text-align: right;\n",
       "    }\n",
       "</style>\n",
       "<table border=\"1\" class=\"dataframe\">\n",
       "  <thead>\n",
       "    <tr style=\"text-align: right;\">\n",
       "      <th></th>\n",
       "      <th>date_group</th>\n",
       "      <th>utm_campaign</th>\n",
       "      <th>cost</th>\n",
       "    </tr>\n",
       "  </thead>\n",
       "  <tbody>\n",
       "    <tr>\n",
       "      <th>0</th>\n",
       "      <td>2023-03-01</td>\n",
       "      <td>advanced_algorithms_series</td>\n",
       "      <td>212</td>\n",
       "    </tr>\n",
       "    <tr>\n",
       "      <th>1</th>\n",
       "      <td>2023-03-02</td>\n",
       "      <td>advanced_algorithms_series</td>\n",
       "      <td>252</td>\n",
       "    </tr>\n",
       "    <tr>\n",
       "      <th>2</th>\n",
       "      <td>2023-03-03</td>\n",
       "      <td>advanced_algorithms_series</td>\n",
       "      <td>202</td>\n",
       "    </tr>\n",
       "    <tr>\n",
       "      <th>3</th>\n",
       "      <td>2023-03-04</td>\n",
       "      <td>advanced_algorithms_series</td>\n",
       "      <td>223</td>\n",
       "    </tr>\n",
       "    <tr>\n",
       "      <th>4</th>\n",
       "      <td>2023-03-05</td>\n",
       "      <td>advanced_algorithms_series</td>\n",
       "      <td>265</td>\n",
       "    </tr>\n",
       "  </tbody>\n",
       "</table>\n",
       "</div>"
      ],
      "text/plain": [
       "   date_group                utm_campaign  cost\n",
       "0  2023-03-01  advanced_algorithms_series   212\n",
       "1  2023-03-02  advanced_algorithms_series   252\n",
       "2  2023-03-03  advanced_algorithms_series   202\n",
       "3  2023-03-04  advanced_algorithms_series   223\n",
       "4  2023-03-05  advanced_algorithms_series   265"
      ]
     },
     "execution_count": 91,
     "metadata": {},
     "output_type": "execute_result"
    }
   ],
   "source": [
    "def filt_and_agg_ads(df, date1, date2):\n",
    "    date1 = pd.to_datetime(date1).date()\n",
    "    date2 = pd.to_datetime(date2).date()\n",
    "    \n",
    "    filtered_df=df[(df['date_group'] >= date1) & (df['date_group'] <= date2)]\n",
    "    df_ads =  filtered_df.groupby(['date_group', 'utm_campaign']).sum(['cost']).reset_index()\n",
    "    return df_ads\n",
    "\n",
    "agg_ads = filt_and_agg_ads(clean_ads, DATE_BEGIN, DATE_END)\n",
    "agg_ads.head()"
   ]
  },
  {
   "cell_type": "code",
   "execution_count": 92,
   "id": "a2726da8-b11c-4f20-93ad-4a9f9c5d1663",
   "metadata": {},
   "outputs": [
    {
     "data": {
      "text/html": [
       "<div>\n",
       "<style scoped>\n",
       "    .dataframe tbody tr th:only-of-type {\n",
       "        vertical-align: middle;\n",
       "    }\n",
       "\n",
       "    .dataframe tbody tr th {\n",
       "        vertical-align: top;\n",
       "    }\n",
       "\n",
       "    .dataframe thead th {\n",
       "        text-align: right;\n",
       "    }\n",
       "</style>\n",
       "<table border=\"1\" class=\"dataframe\">\n",
       "  <thead>\n",
       "    <tr style=\"text-align: right;\">\n",
       "      <th></th>\n",
       "      <th>date_group</th>\n",
       "      <th>visits</th>\n",
       "      <th>registrations</th>\n",
       "    </tr>\n",
       "  </thead>\n",
       "  <tbody>\n",
       "    <tr>\n",
       "      <th>0</th>\n",
       "      <td>2023-03-01</td>\n",
       "      <td>376</td>\n",
       "      <td>87</td>\n",
       "    </tr>\n",
       "    <tr>\n",
       "      <th>1</th>\n",
       "      <td>2023-03-02</td>\n",
       "      <td>613</td>\n",
       "      <td>106</td>\n",
       "    </tr>\n",
       "    <tr>\n",
       "      <th>2</th>\n",
       "      <td>2023-03-03</td>\n",
       "      <td>683</td>\n",
       "      <td>107</td>\n",
       "    </tr>\n",
       "    <tr>\n",
       "      <th>3</th>\n",
       "      <td>2023-03-04</td>\n",
       "      <td>647</td>\n",
       "      <td>159</td>\n",
       "    </tr>\n",
       "    <tr>\n",
       "      <th>4</th>\n",
       "      <td>2023-03-05</td>\n",
       "      <td>707</td>\n",
       "      <td>115</td>\n",
       "    </tr>\n",
       "  </tbody>\n",
       "</table>\n",
       "</div>"
      ],
      "text/plain": [
       "   date_group  visits  registrations\n",
       "0  2023-03-01     376             87\n",
       "1  2023-03-02     613            106\n",
       "2  2023-03-03     683            107\n",
       "3  2023-03-04     647            159\n",
       "4  2023-03-05     707            115"
      ]
     },
     "execution_count": 92,
     "metadata": {},
     "output_type": "execute_result"
    }
   ],
   "source": [
    "# объединим данные по конверсиям с данными по рекламным кампаниям\n",
    "\n",
    "def get_conv(df):\n",
    "    new_conv = df[['date_group', 'visits', 'registrations']]\n",
    "    new_conv = df.groupby('date_group').agg({'visits': 'sum', 'registrations': 'sum'}).reset_index()\n",
    "    return new_conv\n",
    "\n",
    "result_conv = get_conv(agg_visits_regs)\n",
    "result_conv.head()"
   ]
  },
  {
   "cell_type": "code",
   "execution_count": 93,
   "id": "a2f04d3b-b3f8-4f19-9f3c-03f96e59929c",
   "metadata": {},
   "outputs": [
    {
     "data": {
      "text/html": [
       "<div>\n",
       "<style scoped>\n",
       "    .dataframe tbody tr th:only-of-type {\n",
       "        vertical-align: middle;\n",
       "    }\n",
       "\n",
       "    .dataframe tbody tr th {\n",
       "        vertical-align: top;\n",
       "    }\n",
       "\n",
       "    .dataframe thead th {\n",
       "        text-align: right;\n",
       "    }\n",
       "</style>\n",
       "<table border=\"1\" class=\"dataframe\">\n",
       "  <thead>\n",
       "    <tr style=\"text-align: right;\">\n",
       "      <th></th>\n",
       "      <th>date_group</th>\n",
       "      <th>visits</th>\n",
       "      <th>registrations</th>\n",
       "      <th>utm_campaign</th>\n",
       "      <th>cost</th>\n",
       "    </tr>\n",
       "  </thead>\n",
       "  <tbody>\n",
       "    <tr>\n",
       "      <th>0</th>\n",
       "      <td>2023-03-01</td>\n",
       "      <td>376</td>\n",
       "      <td>87</td>\n",
       "      <td>advanced_algorithms_series</td>\n",
       "      <td>212.0</td>\n",
       "    </tr>\n",
       "    <tr>\n",
       "      <th>1</th>\n",
       "      <td>2023-03-02</td>\n",
       "      <td>613</td>\n",
       "      <td>106</td>\n",
       "      <td>advanced_algorithms_series</td>\n",
       "      <td>252.0</td>\n",
       "    </tr>\n",
       "    <tr>\n",
       "      <th>2</th>\n",
       "      <td>2023-03-03</td>\n",
       "      <td>683</td>\n",
       "      <td>107</td>\n",
       "      <td>advanced_algorithms_series</td>\n",
       "      <td>202.0</td>\n",
       "    </tr>\n",
       "    <tr>\n",
       "      <th>3</th>\n",
       "      <td>2023-03-04</td>\n",
       "      <td>647</td>\n",
       "      <td>159</td>\n",
       "      <td>advanced_algorithms_series</td>\n",
       "      <td>223.0</td>\n",
       "    </tr>\n",
       "    <tr>\n",
       "      <th>4</th>\n",
       "      <td>2023-03-05</td>\n",
       "      <td>707</td>\n",
       "      <td>115</td>\n",
       "      <td>advanced_algorithms_series</td>\n",
       "      <td>265.0</td>\n",
       "    </tr>\n",
       "  </tbody>\n",
       "</table>\n",
       "</div>"
      ],
      "text/plain": [
       "  date_group  visits  registrations                utm_campaign   cost\n",
       "0 2023-03-01     376             87  advanced_algorithms_series  212.0\n",
       "1 2023-03-02     613            106  advanced_algorithms_series  252.0\n",
       "2 2023-03-03     683            107  advanced_algorithms_series  202.0\n",
       "3 2023-03-04     647            159  advanced_algorithms_series  223.0\n",
       "4 2023-03-05     707            115  advanced_algorithms_series  265.0"
      ]
     },
     "execution_count": 93,
     "metadata": {},
     "output_type": "execute_result"
    }
   ],
   "source": [
    "def get_ads(df1, df2):\n",
    "    df2['date_group'] = pd.to_datetime(df2['date_group'])\n",
    "    df1['date_group'] = pd.to_datetime(df1['date_group'])\n",
    "    ads_and_regs = pd.merge(df1, df2, left_on=['date_group'], right_on=['date_group'], how='left')\n",
    "    ads_and_regs['utm_campaign'] = ads_and_regs['utm_campaign'].fillna('none')\n",
    "    ads_and_regs['cost'] = ads_and_regs['cost'].fillna(0)\n",
    "    ads_and_regs = ads_and_regs.sort_values(by='date_group')\n",
    "    ads_and_regs.to_json('ads.json')\n",
    "    return ads_and_regs\n",
    "    \n",
    "ads = get_ads(result_conv, agg_ads)\n",
    "ads.head()"
   ]
  },
  {
   "cell_type": "markdown",
   "id": "0797d0be-cb9f-4be4-ab7e-d461fa0456af",
   "metadata": {},
   "source": [
    "<h2> Визуализация </h2>"
   ]
  },
  {
   "cell_type": "code",
   "execution_count": 94,
   "id": "d1cf2c15-4d20-4d73-8104-b991540d55c7",
   "metadata": {},
   "outputs": [],
   "source": [
    "# подготовка директории\n",
    "\n",
    "chart_path = './charts'\n",
    "os.makedirs(chart_path, exist_ok=True)"
   ]
  },
  {
   "cell_type": "markdown",
   "id": "d4be007e-a3d4-4b33-a448-bdff77321eea",
   "metadata": {},
   "source": [
    "<h4>Итоговые визиты</h4>"
   ]
  },
  {
   "cell_type": "code",
   "execution_count": 95,
   "id": "2a5feae3-e873-4c50-825f-f47980fe37b2",
   "metadata": {},
   "outputs": [
    {
     "data": {
      "image/png": "[encoded data removed]",
      "text/plain": [
       "<Figure size 1400x700 with 1 Axes>"
      ]
     },
     "metadata": {},
     "output_type": "display_data"
    }
   ],
   "source": [
    "plt.figure(figsize=(14, 7))\n",
    "sns.barplot(data=result_conv, x='date_group', y='visits', palette='plasma', hue='date_group')\n",
    "plt.title(\"Визиты\")\n",
    "plt.xlabel(\"Дата\")\n",
    "plt.ylabel(\"Количество визитов\")\n",
    "plt.xticks(rotation=45)\n",
    "ax = plt.gca()\n",
    "plt.xticks(ticks=ax.get_xticks()[::7])\n",
    "plt.grid(axis='y', linestyle=':')\n",
    "plt.tight_layout()\n",
    "plt.savefig('./charts/total_visits.png')\n",
    "plt.show()"
   ]
  },
  {
   "cell_type": "markdown",
   "id": "7f6c0785-cd31-41bc-b82a-4da618af44c6",
   "metadata": {},
   "source": [
    "<h4> Итоговые визиты с разбивкой по платформам: web, android, ios </h4>"
   ]
  },
  {
   "cell_type": "code",
   "execution_count": 96,
   "id": "b0fd0a7a-4f49-4081-8ba0-3b1a2f3a751a",
   "metadata": {},
   "outputs": [
    {
     "data": {
      "image/png": "[encoded data removed]",
      "text/plain": [
       "<Figure size 1400x700 with 1 Axes>"
      ]
     },
     "metadata": {},
     "output_type": "display_data"
    }
   ],
   "source": [
    "result_visits = agg_visits_regs.pivot_table(index='date_group', columns='platform', values='visits', fill_value=0)\n",
    "result_visits.plot(kind='bar', stacked=True, figsize=(14, 7), align='edge', width=0.8)\n",
    "plt.title(\"Визиты с разбивкой по платформе\")\n",
    "plt.xlabel(\"Дата\")\n",
    "plt.ylabel(\"Количество визитов\")\n",
    "plt.xticks(rotation=45)\n",
    "ax = plt.gca()\n",
    "plt.xticks(ticks=ax.get_xticks()[::7])\n",
    "plt.grid(axis='y', linestyle=':')\n",
    "\n",
    "plt.legend(loc='upper center')\n",
    "plt.tight_layout()\n",
    "plt.savefig('./charts/total_visits_by_platform.png')\n",
    "plt.show()"
   ]
  },
  {
   "cell_type": "markdown",
   "id": "17d0dfc3-5863-4ceb-bc8a-aea3003f6438",
   "metadata": {},
   "source": [
    "<h4> Итоговые регистрации </h4>"
   ]
  },
  {
   "cell_type": "code",
   "execution_count": 97,
   "id": "8463eb2e-c2fe-4e49-9a71-896595333b8e",
   "metadata": {
    "scrolled": true
   },
   "outputs": [
    {
     "data": {
      "image/png": "[encoded data removed]",
      "text/plain": [
       "<Figure size 1400x700 with 1 Axes>"
      ]
     },
     "metadata": {},
     "output_type": "display_data"
    }
   ],
   "source": [
    "plt.figure(figsize=(14, 7))\n",
    "sns.barplot(data=result_conv, x='date_group', y='registrations', palette='plasma', hue='date_group')\n",
    "plt.title(\"Регистрации\")\n",
    "plt.xlabel(\"Дата\")\n",
    "plt.ylabel(\"Количество регистраций\")\n",
    "plt.xticks(rotation=45)\n",
    "ax = plt.gca()\n",
    "plt.xticks(ticks=ax.get_xticks()[::7])\n",
    "plt.grid(axis='y', linestyle=':')\n",
    "plt.tight_layout()\n",
    "plt.savefig('./charts/total_registrations.png')\n",
    "plt.show()"
   ]
  },
  {
   "cell_type": "markdown",
   "id": "78edf4db-2995-4fd9-819b-f2a655e2b698",
   "metadata": {},
   "source": [
    "<h4>Итоговые регистрации с разбивкой по платформе: web, android, ios</h4>"
   ]
  },
  {
   "cell_type": "code",
   "execution_count": null,
   "id": "10237674-9bee-4f69-a7a1-827fe91d9b7e",
   "metadata": {},
   "outputs": [],
   "source": [
    "result_regs = agg_visits_regs.pivot_table(index='date_group', columns='platform', values='registrations', fill_value=0)\n",
    "result_regs.plot(kind='bar', stacked=True, figsize=(14, 7), align='edge', width=0.8)\n",
    "plt.title(\"Регистрации с разбивкой по платформе\")\n",
    "plt.xlabel(\"Дата\")\n",
    "plt.ylabel(\"Количество регистраций\")\n",
    "plt.xticks(rotation=45)\n",
    "ax = plt.gca()\n",
    "plt.xticks(ticks=ax.get_xticks()[::7])\n",
    "plt.grid(axis='y', linestyle=':')\n",
    "plt.legend(loc='upper center')\n",
    "plt.tight_layout()\n",
    "plt.savefig('./charts/total_registrations_by_platform.png')\n",
    "plt.show()"
   ]
  },
  {
   "cell_type": "markdown",
   "id": "86bf2147-1fb2-4930-bd65-a310d318db19",
   "metadata": {},
   "source": [
    "<h4> Конверсия для android </h4>"
   ]
  },
  {
   "cell_type": "code",
   "execution_count": null,
   "id": "62622e56-6445-45ea-af44-a493d456eda4",
   "metadata": {},
   "outputs": [],
   "source": [
    "android_conversion = agg_visits_regs.query('platform == \"android\"')\n",
    "android_conversion.plot(kind='line', figsize=(14, 7), x='date_group', y='conversion', legend=False)\n",
    "plt.title(\"Конверсия для android\")\n",
    "plt.xlabel(\"Дата\")\n",
    "plt.ylabel(\"Конверсия, %\")\n",
    "plt.grid(axis='y', linestyle=':')\n",
    "plt.tight_layout()\n",
    "plt.savefig('./charts/conversion_android.png')"
   ]
  },
  {
   "cell_type": "markdown",
   "id": "9d637240-491e-467d-a62d-f03b02240586",
   "metadata": {},
   "source": [
    "<h4> Конверсия для ios </h4>"
   ]
  },
  {
   "cell_type": "code",
   "execution_count": null,
   "id": "cae85fdb-c015-479e-998d-830ae377d642",
   "metadata": {},
   "outputs": [],
   "source": [
    "android_conversion = agg_visits_regs.query('platform == \"ios\"')\n",
    "android_conversion.plot(kind='line', figsize=(14, 7), x='date_group', y='conversion', legend=False)\n",
    "plt.title(\"Конверсия для ios\")\n",
    "plt.xlabel(\"Дата\")\n",
    "plt.ylabel(\"Конверсия, %\")\n",
    "plt.grid(axis='y', linestyle=':')\n",
    "plt.tight_layout()\n",
    "plt.savefig('./charts/conversion_ios.png')"
   ]
  },
  {
   "cell_type": "markdown",
   "id": "e8a88afc-9d32-4e3f-ac25-da5950efca40",
   "metadata": {},
   "source": [
    "<h4> Конверсия для web </h4>"
   ]
  },
  {
   "cell_type": "code",
   "execution_count": null,
   "id": "1a405260-af51-4c73-8908-aa1b0c842ce9",
   "metadata": {},
   "outputs": [],
   "source": [
    "android_conversion = agg_visits_regs.query('platform == \"web\"')\n",
    "android_conversion.plot(kind='line', figsize=(14, 7), x='date_group', y='conversion', legend=False)\n",
    "plt.title(\"Конверсия для web\")\n",
    "plt.xlabel(\"Дата\")\n",
    "plt.ylabel(\"Конверсия, %\")\n",
    "plt.grid(axis='y', linestyle=':')\n",
    "plt.tight_layout()\n",
    "plt.savefig('./charts/conversion_web.png')"
   ]
  },
  {
   "cell_type": "markdown",
   "id": "3a3ab309-2f8f-4fa8-b82c-e70040deede1",
   "metadata": {},
   "source": [
    "<h4> Средняя конверсия </h4>"
   ]
  },
  {
   "cell_type": "code",
   "execution_count": null,
   "id": "64d2a831-8fc4-405a-991d-2a87425fba83",
   "metadata": {},
   "outputs": [],
   "source": [
    "result_conversions = agg_visits_regs[['date_group', 'conversion']].groupby('date_group').mean()\n",
    "result_conversions.plot(kind='line', figsize=(14, 7), legend=False)\n",
    "plt.title(\"Общая конверсия\")\n",
    "plt.xlabel(\"Дата\")\n",
    "plt.ylabel(\"Конверсия, %\")\n",
    "plt.grid(axis='y', linestyle=':')\n",
    "plt.tight_layout()\n",
    "plt.savefig('./charts/conversion.png')"
   ]
  },
  {
   "cell_type": "markdown",
   "id": "aae27015-22e4-4e01-8d76-2ff6512318c0",
   "metadata": {},
   "source": [
    "<h4>Стоимость рекламы </h4>"
   ]
  },
  {
   "cell_type": "code",
   "execution_count": null,
   "id": "b718e96f-79f1-4ee2-ba51-82f7784ac937",
   "metadata": {},
   "outputs": [],
   "source": [
    "ads.plot(kind='line', figsize=(14, 7), x='date_group', y='cost', legend=False)\n",
    "plt.title(\"Стоимость рекламы\")\n",
    "plt.xlabel(\"Дата\")\n",
    "plt.ylabel(\"Стоимость, RUB\")\n",
    "plt.grid(axis='y', linestyle=':')\n",
    "plt.tight_layout()\n",
    "plt.savefig('./charts/ads_cost.png')"
   ]
  },
  {
   "cell_type": "markdown",
   "id": "e1f50da1-3be8-4a62-9718-263ac2c3fac5",
   "metadata": {},
   "source": [
    "<h4> Визиты в разрезе рекламных кампаний </h4>"
   ]
  },
  {
   "cell_type": "code",
   "execution_count": null,
   "id": "773b7a62-dc0a-4f5f-acd0-1e0d50b8d145",
   "metadata": {},
   "outputs": [],
   "source": [
    "campaign_periods = ads.groupby(['utm_campaign']).agg(start = ('date_group', 'min'), end = ('date_group', 'max')).reset_index()\n",
    "campaign_periods.head()"
   ]
  },
  {
   "cell_type": "code",
   "execution_count": null,
   "id": "cb1274eb-66fb-42fc-87e6-0dd87b2a9ea4",
   "metadata": {},
   "outputs": [],
   "source": [
    "ads.plot(kind='line', figsize=(14, 7), x='date_group', y='visits', linewidth=0.8, color='black', label='visits', marker='o', markersize=3)\n",
    "color_map = {\n",
    "    'advanced_algorithms_series': 'red',\n",
    "    'intro_to_python_course': 'yellow',\n",
    "    'ui_ux_design_drive': 'purple',\n",
    "    'virtual_reality_workshop': 'green',\n",
    "    'women_in_tech_symposium': 'blue',\n",
    "    'none': 'white'\n",
    "}\n",
    "for _,row in campaign_periods.iterrows():\n",
    "    plt.axvspan(row['start'], row['end'], label=row['utm_campaign'], color=color_map[row['utm_campaign']], alpha=0.2)\n",
    "\n",
    "plt.title(\"Визиты в разрезе рекламных кампаний\")\n",
    "plt.xlabel(\"Дата\")\n",
    "plt.ylabel(\"Уникальные визиты\")\n",
    "plt.grid(axis='y', linestyle=':')\n",
    "plt.legend(loc='upper center')\n",
    "plt.tight_layout()\n",
    "plt.savefig('./charts/visits_during_marketing.png')"
   ]
  },
  {
   "cell_type": "markdown",
   "id": "7f4495d9-f52a-43df-8579-2c63e4bef608",
   "metadata": {},
   "source": [
    "<h4> Регистрации в разрезе рекламных кампаний </h4>"
   ]
  },
  {
   "cell_type": "code",
   "execution_count": null,
   "id": "2a10368d-8b46-4b08-baaf-0f23de1dbaa6",
   "metadata": {},
   "outputs": [],
   "source": [
    "ads.plot(kind='line', figsize=(14, 7), x='date_group', y='registrations', linewidth=0.8, color='black', label='registrations', marker='o', markersize=3)\n",
    "color_map = {\n",
    "    'advanced_algorithms_series': 'red',\n",
    "    'intro_to_python_course': 'yellow',\n",
    "    'ui_ux_design_drive': 'purple',\n",
    "    'virtual_reality_workshop': 'green',\n",
    "    'women_in_tech_symposium': 'blue',\n",
    "    'none': 'white'\n",
    "}\n",
    "for _,row in campaign_periods.iterrows():\n",
    "    plt.axvspan(row['start'], row['end'], label=row['utm_campaign'], color=color_map[row['utm_campaign']], alpha=0.2)\n",
    "\n",
    "plt.title(\"Регистрации в разрезе рекламных кампаний\")\n",
    "plt.xlabel(\"Дата\")\n",
    "plt.ylabel(\"Уникальные пользователи\")\n",
    "plt.grid(axis='y', linestyle=':')\n",
    "plt.legend(loc='upper center')\n",
    "plt.tight_layout()\n",
    "plt.savefig('./charts/registrations_during_marketing.png')"
   ]
  },
  {
   "cell_type": "code",
   "execution_count": null,
   "id": "c6824965-b06d-45b2-b0a3-6ae57119220e",
   "metadata": {},
   "outputs": [],
   "source": []
  }
 ],
 "metadata": {
  "kernelspec": {
   "display_name": "Python 3 (ipykernel)",
   "language": "python",
   "name": "python3"
  },
  "language_info": {
   "codemirror_mode": {
    "name": "ipython",
    "version": 3
   },
   "file_extension": ".py",
   "mimetype": "text/x-python",
   "name": "python",
   "nbconvert_exporter": "python",
   "pygments_lexer": "ipython3",
   "version": "3.12.4"
  }
 },
 "nbformat": 4,
 "nbformat_minor": 5
}
