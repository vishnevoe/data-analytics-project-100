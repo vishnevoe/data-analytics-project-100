{
 "cells": [
  {
   "cell_type": "code",
   "execution_count": 65,
   "id": "7243d4fb-6ef5-4904-ac5f-82b7ba022aac",
   "metadata": {},
   "outputs": [],
   "source": [
    "# подключение библиотек\n",
    "\n",
    "from dotenv import load_dotenv\n",
    "import os\n",
    "import pandas as pd\n",
    "import requests\n",
    "import json\n",
    "import matplotlib.pyplot as plt\n",
    "import seaborn as sns"
   ]
  },
  {
   "cell_type": "code",
   "execution_count": 66,
   "id": "09e356ff-1bf8-459c-8905-40a599e82dd9",
   "metadata": {},
   "outputs": [],
   "source": [
    "# получение переменных окружения\n",
    "\n",
    "load_dotenv()\n",
    "\n",
    "DATE_BEGIN = os.getenv('DATE_BEGIN')\n",
    "DATE_END = os.getenv('DATE_END')\n",
    "API_URL = os.getenv('API_URL')"
   ]
  },
  {
   "cell_type": "code",
   "execution_count": 67,
   "id": "790a6bbf-12d4-49bf-9a24-e407049ee395",
   "metadata": {},
   "outputs": [],
   "source": [
    "# получение по API данных о визитах за период: 2023-03-01-2023-09-01 \n",
    "\n",
    "r_visits = requests.get(f'{API_URL}/visits', params={'begin': DATE_BEGIN, 'end': DATE_END})\n",
    "if r_visits.status_code == 200:\n",
    "    data = r_visits.json()\n",
    "df_visits = pd.DataFrame(data)"
   ]
  },
  {
   "cell_type": "code",
   "execution_count": 68,
   "id": "945b4f5e-a5ab-47c6-833a-b626ec39c21a",
   "metadata": {},
   "outputs": [],
   "source": [
    "# получение по API данных о регистрациях за период: 2023-03-01-2023-09-01 \n",
    "\n",
    "r_regs = requests.get(f'{API_URL}/registrations', params={'begin': DATE_BEGIN, 'end': DATE_END})\n",
    "if r_regs.status_code == 200:\n",
    "    data = r_regs.json()\n",
    "df_regs = pd.DataFrame(data)"
   ]
  },
  {
   "cell_type": "markdown",
   "id": "f0f5a511-a386-4626-9ee8-2ef21adea814",
   "metadata": {},
   "source": [
    "<h2>Расчет метрик</h2>\n",
    "\n",
    "На этом этапе проведем расчет конверсии визитов в регистрации, почистим данные визитов от ботов, сагрерируем данные по дате и платформе а также сформируем датафрейм со следующими полями:\n",
    "- date_group — дата\n",
    "- platform — платформа (web, ios, android)\n",
    "- visits — визиты в дату\n",
    "- registrations — регистрации в дату\n",
    "- conversion — конверсия.\n",
    "\n",
    "Полученный датафрейм сохраним в формате JSON."
   ]
  },
  {
   "cell_type": "code",
   "execution_count": 69,
   "id": "b0519723-fd11-4aba-807a-695c419b61c1",
   "metadata": {},
   "outputs": [
    {
     "ename": "KeyError",
     "evalue": "'visit_id'",
     "output_type": "error",
     "traceback": [
      "\u001b[1;31m---------------------------------------------------------------------------\u001b[0m",
      "\u001b[1;31mKeyError\u001b[0m                                  Traceback (most recent call last)",
      "\u001b[1;32m~\\AppData\\Local\\Temp\\ipykernel_14164\\307248970.py\u001b[0m in \u001b[0;36m?\u001b[1;34m()\u001b[0m\n\u001b[0;32m      8\u001b[0m     \u001b[0mdf_clean\u001b[0m \u001b[1;33m=\u001b[0m \u001b[0mdf_clean\u001b[0m\u001b[1;33m.\u001b[0m\u001b[0msort_values\u001b[0m\u001b[1;33m(\u001b[0m\u001b[0mby\u001b[0m\u001b[1;33m=\u001b[0m\u001b[1;33m[\u001b[0m\u001b[1;34m'visit_date'\u001b[0m\u001b[1;33m,\u001b[0m \u001b[1;34m'visit_id'\u001b[0m\u001b[1;33m]\u001b[0m\u001b[1;33m)\u001b[0m\u001b[1;33m.\u001b[0m\u001b[0mdrop_duplicates\u001b[0m\u001b[1;33m(\u001b[0m\u001b[0msubset\u001b[0m\u001b[1;33m=\u001b[0m\u001b[1;33m[\u001b[0m\u001b[1;34m'visit_id'\u001b[0m\u001b[1;33m]\u001b[0m\u001b[1;33m,\u001b[0m \u001b[0mkeep\u001b[0m\u001b[1;33m=\u001b[0m\u001b[1;34m'last'\u001b[0m\u001b[1;33m)\u001b[0m\u001b[1;33m\u001b[0m\u001b[1;33m\u001b[0m\u001b[0m\n\u001b[0;32m      9\u001b[0m \u001b[1;33m\u001b[0m\u001b[0m\n\u001b[0;32m     10\u001b[0m     \u001b[0mdf_clean\u001b[0m \u001b[1;33m=\u001b[0m \u001b[0mdf_clean\u001b[0m\u001b[1;33m[\u001b[0m\u001b[1;33m~\u001b[0m\u001b[0mdf_clean\u001b[0m\u001b[1;33m[\u001b[0m\u001b[1;34m'user_agent'\u001b[0m\u001b[1;33m]\u001b[0m\u001b[1;33m.\u001b[0m\u001b[0mstr\u001b[0m\u001b[1;33m.\u001b[0m\u001b[0mcontains\u001b[0m\u001b[1;33m(\u001b[0m\u001b[1;34m'bot'\u001b[0m\u001b[1;33m)\u001b[0m\u001b[1;33m]\u001b[0m\u001b[1;33m\u001b[0m\u001b[1;33m\u001b[0m\u001b[0m\n\u001b[0;32m     11\u001b[0m     \u001b[1;32mreturn\u001b[0m \u001b[0mdf_clean\u001b[0m\u001b[1;33m\u001b[0m\u001b[1;33m\u001b[0m\u001b[0m\n\u001b[1;32m---> 12\u001b[1;33m \u001b[0mdf_clean_visits\u001b[0m \u001b[1;33m=\u001b[0m \u001b[0mclean_visits\u001b[0m\u001b[1;33m(\u001b[0m\u001b[0mdf_visits\u001b[0m\u001b[1;33m)\u001b[0m\u001b[1;33m\u001b[0m\u001b[1;33m\u001b[0m\u001b[0m\n\u001b[0m\u001b[0;32m     13\u001b[0m \u001b[0mdf_clean_visits\u001b[0m\u001b[1;33m.\u001b[0m\u001b[0mhead\u001b[0m\u001b[1;33m(\u001b[0m\u001b[1;33m)\u001b[0m\u001b[1;33m\u001b[0m\u001b[1;33m\u001b[0m\u001b[0m\n",
      "\u001b[1;32m~\\AppData\\Local\\Temp\\ipykernel_14164\\307248970.py\u001b[0m in \u001b[0;36m?\u001b[1;34m(df)\u001b[0m\n\u001b[0;32m      4\u001b[0m     \u001b[0mdf_clean\u001b[0m \u001b[1;33m=\u001b[0m \u001b[0mdf\u001b[0m\u001b[1;33m.\u001b[0m\u001b[0mcopy\u001b[0m\u001b[1;33m(\u001b[0m\u001b[1;33m)\u001b[0m\u001b[1;33m\u001b[0m\u001b[1;33m\u001b[0m\u001b[0m\n\u001b[0;32m      5\u001b[0m \u001b[1;33m\u001b[0m\u001b[0m\n\u001b[0;32m      6\u001b[0m     \u001b[0mdf_clean\u001b[0m\u001b[1;33m[\u001b[0m\u001b[1;34m'visit_date'\u001b[0m\u001b[1;33m]\u001b[0m \u001b[1;33m=\u001b[0m \u001b[0mpd\u001b[0m\u001b[1;33m.\u001b[0m\u001b[0mto_datetime\u001b[0m\u001b[1;33m(\u001b[0m\u001b[0mdf\u001b[0m\u001b[1;33m[\u001b[0m\u001b[1;34m'datetime'\u001b[0m\u001b[1;33m]\u001b[0m\u001b[1;33m)\u001b[0m\u001b[1;33m\u001b[0m\u001b[1;33m\u001b[0m\u001b[0m\n\u001b[0;32m      7\u001b[0m \u001b[1;33m\u001b[0m\u001b[0m\n\u001b[1;32m----> 8\u001b[1;33m     \u001b[0mdf_clean\u001b[0m \u001b[1;33m=\u001b[0m \u001b[0mdf_clean\u001b[0m\u001b[1;33m.\u001b[0m\u001b[0msort_values\u001b[0m\u001b[1;33m(\u001b[0m\u001b[0mby\u001b[0m\u001b[1;33m=\u001b[0m\u001b[1;33m[\u001b[0m\u001b[1;34m'visit_date'\u001b[0m\u001b[1;33m,\u001b[0m \u001b[1;34m'visit_id'\u001b[0m\u001b[1;33m]\u001b[0m\u001b[1;33m)\u001b[0m\u001b[1;33m.\u001b[0m\u001b[0mdrop_duplicates\u001b[0m\u001b[1;33m(\u001b[0m\u001b[0msubset\u001b[0m\u001b[1;33m=\u001b[0m\u001b[1;33m[\u001b[0m\u001b[1;34m'visit_id'\u001b[0m\u001b[1;33m]\u001b[0m\u001b[1;33m,\u001b[0m \u001b[0mkeep\u001b[0m\u001b[1;33m=\u001b[0m\u001b[1;34m'last'\u001b[0m\u001b[1;33m)\u001b[0m\u001b[1;33m\u001b[0m\u001b[1;33m\u001b[0m\u001b[0m\n\u001b[0m\u001b[0;32m      9\u001b[0m \u001b[1;33m\u001b[0m\u001b[0m\n\u001b[0;32m     10\u001b[0m     \u001b[0mdf_clean\u001b[0m \u001b[1;33m=\u001b[0m \u001b[0mdf_clean\u001b[0m\u001b[1;33m[\u001b[0m\u001b[1;33m~\u001b[0m\u001b[0mdf_clean\u001b[0m\u001b[1;33m[\u001b[0m\u001b[1;34m'user_agent'\u001b[0m\u001b[1;33m]\u001b[0m\u001b[1;33m.\u001b[0m\u001b[0mstr\u001b[0m\u001b[1;33m.\u001b[0m\u001b[0mcontains\u001b[0m\u001b[1;33m(\u001b[0m\u001b[1;34m'bot'\u001b[0m\u001b[1;33m)\u001b[0m\u001b[1;33m]\u001b[0m\u001b[1;33m\u001b[0m\u001b[1;33m\u001b[0m\u001b[0m\n\u001b[0;32m     11\u001b[0m     \u001b[1;32mreturn\u001b[0m \u001b[0mdf_clean\u001b[0m\u001b[1;33m\u001b[0m\u001b[1;33m\u001b[0m\u001b[0m\n",
      "\u001b[1;32mD:\\soft\\anaconda\\Lib\\site-packages\\pandas\\core\\frame.py\u001b[0m in \u001b[0;36m?\u001b[1;34m(self, by, axis, ascending, inplace, kind, na_position, ignore_index, key)\u001b[0m\n\u001b[0;32m   7168\u001b[0m                 \u001b[1;33mf\"\u001b[0m\u001b[1;33mLength of ascending (\u001b[0m\u001b[1;33m{\u001b[0m\u001b[0mlen\u001b[0m\u001b[1;33m(\u001b[0m\u001b[0mascending\u001b[0m\u001b[1;33m)\u001b[0m\u001b[1;33m}\u001b[0m\u001b[1;33m)\u001b[0m\u001b[1;33m\"\u001b[0m  \u001b[1;31m# type: ignore[arg-type]\u001b[0m\u001b[1;33m\u001b[0m\u001b[1;33m\u001b[0m\u001b[0m\n\u001b[0;32m   7169\u001b[0m                 \u001b[1;33mf\"\u001b[0m\u001b[1;33m != length of by (\u001b[0m\u001b[1;33m{\u001b[0m\u001b[0mlen\u001b[0m\u001b[1;33m(\u001b[0m\u001b[0mby\u001b[0m\u001b[1;33m)\u001b[0m\u001b[1;33m}\u001b[0m\u001b[1;33m)\u001b[0m\u001b[1;33m\"\u001b[0m\u001b[1;33m\u001b[0m\u001b[1;33m\u001b[0m\u001b[0m\n\u001b[0;32m   7170\u001b[0m             \u001b[1;33m)\u001b[0m\u001b[1;33m\u001b[0m\u001b[1;33m\u001b[0m\u001b[0m\n\u001b[0;32m   7171\u001b[0m         \u001b[1;32mif\u001b[0m \u001b[0mlen\u001b[0m\u001b[1;33m(\u001b[0m\u001b[0mby\u001b[0m\u001b[1;33m)\u001b[0m \u001b[1;33m>\u001b[0m \u001b[1;36m1\u001b[0m\u001b[1;33m:\u001b[0m\u001b[1;33m\u001b[0m\u001b[1;33m\u001b[0m\u001b[0m\n\u001b[1;32m-> 7172\u001b[1;33m             \u001b[0mkeys\u001b[0m \u001b[1;33m=\u001b[0m \u001b[1;33m[\u001b[0m\u001b[0mself\u001b[0m\u001b[1;33m.\u001b[0m\u001b[0m_get_label_or_level_values\u001b[0m\u001b[1;33m(\u001b[0m\u001b[0mx\u001b[0m\u001b[1;33m,\u001b[0m \u001b[0maxis\u001b[0m\u001b[1;33m=\u001b[0m\u001b[0maxis\u001b[0m\u001b[1;33m)\u001b[0m \u001b[1;32mfor\u001b[0m \u001b[0mx\u001b[0m \u001b[1;32min\u001b[0m \u001b[0mby\u001b[0m\u001b[1;33m]\u001b[0m\u001b[1;33m\u001b[0m\u001b[1;33m\u001b[0m\u001b[0m\n\u001b[0m\u001b[0;32m   7173\u001b[0m \u001b[1;33m\u001b[0m\u001b[0m\n\u001b[0;32m   7174\u001b[0m             \u001b[1;31m# need to rewrap columns in Series to apply key function\u001b[0m\u001b[1;33m\u001b[0m\u001b[1;33m\u001b[0m\u001b[0m\n\u001b[0;32m   7175\u001b[0m             \u001b[1;32mif\u001b[0m \u001b[0mkey\u001b[0m \u001b[1;32mis\u001b[0m \u001b[1;32mnot\u001b[0m \u001b[1;32mNone\u001b[0m\u001b[1;33m:\u001b[0m\u001b[1;33m\u001b[0m\u001b[1;33m\u001b[0m\u001b[0m\n",
      "\u001b[1;32mD:\\soft\\anaconda\\Lib\\site-packages\\pandas\\core\\generic.py\u001b[0m in \u001b[0;36m?\u001b[1;34m(self, key, axis)\u001b[0m\n\u001b[0;32m   1907\u001b[0m             \u001b[0mvalues\u001b[0m \u001b[1;33m=\u001b[0m \u001b[0mself\u001b[0m\u001b[1;33m.\u001b[0m\u001b[0mxs\u001b[0m\u001b[1;33m(\u001b[0m\u001b[0mkey\u001b[0m\u001b[1;33m,\u001b[0m \u001b[0maxis\u001b[0m\u001b[1;33m=\u001b[0m\u001b[0mother_axes\u001b[0m\u001b[1;33m[\u001b[0m\u001b[1;36m0\u001b[0m\u001b[1;33m]\u001b[0m\u001b[1;33m)\u001b[0m\u001b[1;33m.\u001b[0m\u001b[0m_values\u001b[0m\u001b[1;33m\u001b[0m\u001b[1;33m\u001b[0m\u001b[0m\n\u001b[0;32m   1908\u001b[0m         \u001b[1;32melif\u001b[0m \u001b[0mself\u001b[0m\u001b[1;33m.\u001b[0m\u001b[0m_is_level_reference\u001b[0m\u001b[1;33m(\u001b[0m\u001b[0mkey\u001b[0m\u001b[1;33m,\u001b[0m \u001b[0maxis\u001b[0m\u001b[1;33m=\u001b[0m\u001b[0maxis\u001b[0m\u001b[1;33m)\u001b[0m\u001b[1;33m:\u001b[0m\u001b[1;33m\u001b[0m\u001b[1;33m\u001b[0m\u001b[0m\n\u001b[0;32m   1909\u001b[0m             \u001b[0mvalues\u001b[0m \u001b[1;33m=\u001b[0m \u001b[0mself\u001b[0m\u001b[1;33m.\u001b[0m\u001b[0maxes\u001b[0m\u001b[1;33m[\u001b[0m\u001b[0maxis\u001b[0m\u001b[1;33m]\u001b[0m\u001b[1;33m.\u001b[0m\u001b[0mget_level_values\u001b[0m\u001b[1;33m(\u001b[0m\u001b[0mkey\u001b[0m\u001b[1;33m)\u001b[0m\u001b[1;33m.\u001b[0m\u001b[0m_values\u001b[0m\u001b[1;33m\u001b[0m\u001b[1;33m\u001b[0m\u001b[0m\n\u001b[0;32m   1910\u001b[0m         \u001b[1;32melse\u001b[0m\u001b[1;33m:\u001b[0m\u001b[1;33m\u001b[0m\u001b[1;33m\u001b[0m\u001b[0m\n\u001b[1;32m-> 1911\u001b[1;33m             \u001b[1;32mraise\u001b[0m \u001b[0mKeyError\u001b[0m\u001b[1;33m(\u001b[0m\u001b[0mkey\u001b[0m\u001b[1;33m)\u001b[0m\u001b[1;33m\u001b[0m\u001b[1;33m\u001b[0m\u001b[0m\n\u001b[0m\u001b[0;32m   1912\u001b[0m \u001b[1;33m\u001b[0m\u001b[0m\n\u001b[0;32m   1913\u001b[0m         \u001b[1;31m# Check for duplicates\u001b[0m\u001b[1;33m\u001b[0m\u001b[1;33m\u001b[0m\u001b[0m\n\u001b[0;32m   1914\u001b[0m         \u001b[1;32mif\u001b[0m \u001b[0mvalues\u001b[0m\u001b[1;33m.\u001b[0m\u001b[0mndim\u001b[0m \u001b[1;33m>\u001b[0m \u001b[1;36m1\u001b[0m\u001b[1;33m:\u001b[0m\u001b[1;33m\u001b[0m\u001b[1;33m\u001b[0m\u001b[0m\n",
      "\u001b[1;31mKeyError\u001b[0m: 'visit_id'"
     ]
    }
   ],
   "source": [
    "# очистка данных по визитам\n",
    "\n",
    "def clean_visits(df):\n",
    "    df_clean = df.copy()\n",
    "    \n",
    "    df_clean['visit_date'] = pd.to_datetime(df['datetime'])\n",
    "    \n",
    "    df_clean = df_clean.sort_values(by=['visit_date', 'visit_id']).drop_duplicates(subset=['visit_id'], keep='last')\n",
    "\n",
    "    df_clean = df_clean[~df_clean['user_agent'].str.contains('bot')]\n",
    "    return df_clean\n",
    "df_clean_visits = clean_visits(df_visits)\n",
    "df_clean_visits.head()"
   ]
  },
  {
   "cell_type": "code",
   "execution_count": null,
   "id": "9a602c0e-34fe-44a0-a18a-11c0a9a3ee0c",
   "metadata": {},
   "outputs": [],
   "source": [
    "# очистка данных по регистрациям\n",
    "\n",
    "def clean_regs(df):\n",
    "    df_copy = df.copy()\n",
    "    df_clean = df_copy.drop_duplicates()\n",
    "\n",
    "    # вместо пустых значений поставить \"web\", т.к. пустые значение являются признаком органики \n",
    "    df_clean['platform'] = df_clean['platform'].fillna('web')\n",
    "    \n",
    "    df_clean['reg_date'] = pd.to_datetime(df['datetime'])\n",
    "    return df_clean\n",
    "df_clean_regs = clean_regs(df_regs)"
   ]
  },
  {
   "cell_type": "code",
   "execution_count": null,
   "id": "a6457d78-a28a-4fc3-a095-0f39c6b66bbb",
   "metadata": {},
   "outputs": [],
   "source": [
    "# фильтрация и агрегация данных по визитам\n",
    "\n",
    "def filt_and_agg_visits(df):\n",
    "    df_clean_visits['date_group'] = df_clean_visits['visit_date'].dt.to_period('D')\n",
    "    df_agg = df_clean_visits.groupby(['date_group', 'platform']).size().reset_index(name='visit_id')\n",
    "    return df_agg\n",
    "agg_visits = filt_and_agg_visits(df_clean_visits)\n",
    "agg_visits.head()"
   ]
  },
  {
   "cell_type": "code",
   "execution_count": null,
   "id": "f4f95a96-8705-45c1-b9da-21c1c2032930",
   "metadata": {},
   "outputs": [],
   "source": [
    "# фильтрация и агрегация данных по регистрациям\n",
    "\n",
    "def filt_and_agg_regs(df):\n",
    "    df_clean_regs['date_group'] = df_clean_regs['reg_date'].dt.to_period('D')\n",
    "    df_agg = df_clean_regs.groupby(['date_group', 'platform']).size().reset_index(name='registrations')\n",
    "    df_agg = df_agg.sort_values(by='date_group')\n",
    "    return df_agg\n",
    "\n",
    "agg_regs = filt_and_agg_regs(df_clean_regs)"
   ]
  },
  {
   "cell_type": "code",
   "execution_count": null,
   "id": "42d44b88-dc3d-4128-a2ed-91c8abc450f4",
   "metadata": {},
   "outputs": [],
   "source": [
    "# объединение двух датасетов и подсчет конверсии\n",
    "\n",
    "def merge_dataframes_and_add_conv(df, df1):\n",
    "    merged_df = pd.merge(df, df1, on=['date_group', 'platform'])\n",
    "    merged_df['conversion'] = merged_df['registrations'] / merged_df['visit_id'] * 100\n",
    "    merged_df['date_group'] = df['date_group'].dt.to_timestamp()\n",
    "    merged_df.columns = ['date_group', 'platform', 'visits', 'registrations', 'conversion']\n",
    "    merged_df.to_json('conversion.json')\n",
    "    return merged_df\n",
    "\n",
    "agg_visits_regs = merge_dataframes_and_add_conv(agg_visits, agg_regs)\n",
    "agg_visits_regs.head()"
   ]
  },
  {
   "cell_type": "markdown",
   "id": "982ae7ce-7f68-4637-94ba-2f8ecae3fb14",
   "metadata": {},
   "source": [
    "<h2> Добавление рекламных данных </h2>\n",
    "\n",
    "Добавим к имеющимся данным данные по рекламным кампаниям, сформируем датафрейм с полями:\n",
    "- date_group — дата\n",
    "- visits — визиты на  определенную дату\n",
    "- registrations — регистрации в определенную дату\n",
    "- cost — затраты на рекламу (0, если не было затрат)\n",
    "- utm_campaign — название рекламной кампании (none, если не было в этот период рекламы)\n",
    "\n",
    "Полученный датафрейм сохраним в формате JSON."
   ]
  },
  {
   "cell_type": "code",
   "execution_count": null,
   "id": "81fe12b2-bac5-4374-a95b-0079a9faafd9",
   "metadata": {},
   "outputs": [],
   "source": [
    "# очистка данных по рекламным кампаниям\n",
    "ads = pd.read_csv('./ads.csv')\n",
    "ads.head()"
   ]
  },
  {
   "cell_type": "code",
   "execution_count": null,
   "id": "30c018f9-5296-42b6-8626-b5e97ecea5e0",
   "metadata": {},
   "outputs": [],
   "source": [
    "# фильтрация и агрегация данных по рекламным кампаниям\n",
    "\n",
    "def filt_and_agg_ads(df):\n",
    "    df_clean = df.copy()\n",
    "    #df_clean['date_group'] = df_clean['date'].dt.to_period('D')\n",
    "    df_clean['date_group'] = pd.to_datetime(df_clean['date']).dt.date\n",
    "    df_ads = df_clean[['date_group', 'cost', 'utm_campaign']]\n",
    "    return df_ads\n",
    "    \n",
    "agg_ads = filt_and_agg_ads(ads)\n",
    "agg_ads.head()"
   ]
  },
  {
   "cell_type": "code",
   "execution_count": null,
   "id": "a2726da8-b11c-4f20-93ad-4a9f9c5d1663",
   "metadata": {},
   "outputs": [],
   "source": [
    "# объединим данные по конверсиям с данными по рекламным кампаниям\n",
    "\n",
    "def get_conv(df):\n",
    "    new_conv = df[['date_group', 'visits', 'registrations']]\n",
    "    new_conv = df.groupby('date_group').agg({'visits': 'sum', 'registrations': 'sum'}).reset_index()\n",
    "    return new_conv\n",
    "\n",
    "result_conv = get_conv(agg_visits_regs)\n",
    "result_conv.head()"
   ]
  },
  {
   "cell_type": "code",
   "execution_count": null,
   "id": "a2f04d3b-b3f8-4f19-9f3c-03f96e59929c",
   "metadata": {},
   "outputs": [],
   "source": [
    "def get_ads(df1, df2):\n",
    "   #df2['date_group'] = df2['date_group'].dt.to_timestamp()\n",
    "    df2['date_group'] = pd.to_datetime(df2['date_group'])\n",
    "    ads_and_regs = pd.merge(df1, df2, left_on=['date_group'], right_on=['date_group'], how='left')\n",
    "    ads_and_regs['cost'] = ads_and_regs['cost'].fillna(0)\n",
    "    ads_and_regs.to_json('ads.json')\n",
    "    return ads_and_regs\n",
    "\n",
    "ads = get_ads(result_conv, agg_ads)\n",
    "ads.head()"
   ]
  },
  {
   "cell_type": "markdown",
   "id": "0797d0be-cb9f-4be4-ab7e-d461fa0456af",
   "metadata": {},
   "source": [
    "<h2> Визуализация </h2>"
   ]
  },
  {
   "cell_type": "markdown",
   "id": "d4be007e-a3d4-4b33-a448-bdff77321eea",
   "metadata": {},
   "source": [
    "<h4>Итоговые визиты</h4>"
   ]
  },
  {
   "cell_type": "code",
   "execution_count": null,
   "id": "2a5feae3-e873-4c50-825f-f47980fe37b2",
   "metadata": {},
   "outputs": [],
   "source": [
    "plt.figure(figsize=(14, 7))\n",
    "sns.barplot(data=result_conv, x='date_group', y='visits', palette='plasma', hue='date_group')\n",
    "plt.title(\"Визиты\")\n",
    "plt.xlabel(\"Дата\")\n",
    "plt.ylabel(\"Количество визитов\")\n",
    "plt.xticks(rotation=45)\n",
    "ax = plt.gca()\n",
    "plt.xticks(ticks=ax.get_xticks()[::7])\n",
    "plt.grid(axis='y', linestyle=':')\n",
    "plt.tight_layout()\n",
    "plt.savefig('./charts/total_visits.png')\n",
    "plt.show()"
   ]
  },
  {
   "cell_type": "markdown",
   "id": "7f6c0785-cd31-41bc-b82a-4da618af44c6",
   "metadata": {},
   "source": [
    "<h4> Итоговые визиты с разбивкой по платформам: web, android, ios </h4>"
   ]
  },
  {
   "cell_type": "code",
   "execution_count": null,
   "id": "b0fd0a7a-4f49-4081-8ba0-3b1a2f3a751a",
   "metadata": {},
   "outputs": [],
   "source": [
    "result_visits = agg_visits_regs.pivot_table(index='date_group', columns='platform', values='visits', fill_value=0)\n",
    "result_visits.plot(kind='bar', stacked=True, figsize=(14, 7), align='edge', width=0.8)\n",
    "plt.title(\"Визиты с разбивкой по платформе\")\n",
    "plt.xlabel(\"Дата\")\n",
    "plt.ylabel(\"Количество визитов\")\n",
    "plt.xticks(rotation=45)\n",
    "ax = plt.gca()\n",
    "plt.xticks(ticks=ax.get_xticks()[::7])\n",
    "plt.grid(axis='y', linestyle=':')\n",
    "\n",
    "plt.legend(loc='upper center')\n",
    "plt.tight_layout()\n",
    "plt.savefig('./charts/total_visits_by_platform.png')\n",
    "plt.show()"
   ]
  },
  {
   "cell_type": "markdown",
   "id": "17d0dfc3-5863-4ceb-bc8a-aea3003f6438",
   "metadata": {},
   "source": [
    "<h4> Итоговые регистрации </h4>"
   ]
  },
  {
   "cell_type": "code",
   "execution_count": null,
   "id": "8463eb2e-c2fe-4e49-9a71-896595333b8e",
   "metadata": {
    "scrolled": true
   },
   "outputs": [],
   "source": [
    "plt.figure(figsize=(14, 7))\n",
    "sns.barplot(data=result_conv, x='date_group', y='registrations', palette='plasma', hue='date_group')\n",
    "plt.title(\"Регистрации\")\n",
    "plt.xlabel(\"Дата\")\n",
    "plt.ylabel(\"Количество регистраций\")\n",
    "plt.xticks(rotation=45)\n",
    "ax = plt.gca()\n",
    "plt.xticks(ticks=ax.get_xticks()[::7])\n",
    "plt.grid(axis='y', linestyle=':')\n",
    "plt.tight_layout()\n",
    "plt.savefig('./charts/total_registrations.png')\n",
    "plt.show()"
   ]
  },
  {
   "cell_type": "markdown",
   "id": "78edf4db-2995-4fd9-819b-f2a655e2b698",
   "metadata": {},
   "source": [
    "<h4>Итоговые регистрации с разбивкой по платформе: web, android, ios</h4>"
   ]
  },
  {
   "cell_type": "code",
   "execution_count": null,
   "id": "10237674-9bee-4f69-a7a1-827fe91d9b7e",
   "metadata": {},
   "outputs": [],
   "source": [
    "result_regs = agg_visits_regs.pivot_table(index='date_group', columns='platform', values='registrations', fill_value=0)\n",
    "result_regs.plot(kind='bar', stacked=True, figsize=(14, 7), align='edge', width=0.8)\n",
    "plt.title(\"Регистрации с разбивкой по платформе\")\n",
    "plt.xlabel(\"Дата\")\n",
    "plt.ylabel(\"Количество регистраций\")\n",
    "plt.xticks(rotation=45)\n",
    "ax = plt.gca()\n",
    "plt.xticks(ticks=ax.get_xticks()[::7])\n",
    "plt.grid(axis='y', linestyle=':')\n",
    "plt.legend(loc='upper center')\n",
    "plt.tight_layout()\n",
    "plt.savefig('./charts/total_registrations_by_platform.png')\n",
    "plt.show()"
   ]
  },
  {
   "cell_type": "markdown",
   "id": "86bf2147-1fb2-4930-bd65-a310d318db19",
   "metadata": {},
   "source": [
    "<h4> Конверсия для android </h4>"
   ]
  },
  {
   "cell_type": "code",
   "execution_count": null,
   "id": "62622e56-6445-45ea-af44-a493d456eda4",
   "metadata": {},
   "outputs": [],
   "source": [
    "android_conversion = agg_visits_regs.query('platform == \"android\"')\n",
    "android_conversion.plot(kind='line', figsize=(14, 7), x='date_group', y='conversion', legend=False)\n",
    "plt.title(\"Конверсия для android\")\n",
    "plt.xlabel(\"Дата\")\n",
    "plt.ylabel(\"Конверсия, %\")\n",
    "plt.grid(axis='y', linestyle=':')\n",
    "plt.tight_layout()\n",
    "plt.savefig('./charts/conversion_android.png')"
   ]
  },
  {
   "cell_type": "markdown",
   "id": "9d637240-491e-467d-a62d-f03b02240586",
   "metadata": {},
   "source": [
    "<h4> Конверсия для ios </h4>"
   ]
  },
  {
   "cell_type": "code",
   "execution_count": null,
   "id": "cae85fdb-c015-479e-998d-830ae377d642",
   "metadata": {},
   "outputs": [],
   "source": [
    "android_conversion = agg_visits_regs.query('platform == \"ios\"')\n",
    "android_conversion.plot(kind='line', figsize=(14, 7), x='date_group', y='conversion', legend=False)\n",
    "plt.title(\"Конверсия для ios\")\n",
    "plt.xlabel(\"Дата\")\n",
    "plt.ylabel(\"Конверсия, %\")\n",
    "plt.grid(axis='y', linestyle=':')\n",
    "plt.tight_layout()\n",
    "plt.savefig('./charts/conversion_ios.png')"
   ]
  },
  {
   "cell_type": "markdown",
   "id": "e8a88afc-9d32-4e3f-ac25-da5950efca40",
   "metadata": {},
   "source": [
    "<h4> Конверсия для web </h4>"
   ]
  },
  {
   "cell_type": "code",
   "execution_count": null,
   "id": "1a405260-af51-4c73-8908-aa1b0c842ce9",
   "metadata": {},
   "outputs": [],
   "source": [
    "android_conversion = agg_visits_regs.query('platform == \"web\"')\n",
    "android_conversion.plot(kind='line', figsize=(14, 7), x='date_group', y='conversion', legend=False)\n",
    "plt.title(\"Конверсия для web\")\n",
    "plt.xlabel(\"Дата\")\n",
    "plt.ylabel(\"Конверсия, %\")\n",
    "plt.grid(axis='y', linestyle=':')\n",
    "plt.tight_layout()\n",
    "plt.savefig('./charts/conversion_web.png')"
   ]
  },
  {
   "cell_type": "markdown",
   "id": "3a3ab309-2f8f-4fa8-b82c-e70040deede1",
   "metadata": {},
   "source": [
    "<h4> Средняя конверсия </h4>"
   ]
  },
  {
   "cell_type": "code",
   "execution_count": null,
   "id": "64d2a831-8fc4-405a-991d-2a87425fba83",
   "metadata": {},
   "outputs": [],
   "source": [
    "result_conversions = agg_visits_regs[['date_group', 'conversion']].groupby('date_group').mean()\n",
    "result_conversions.plot(kind='line', figsize=(14, 7), legend=False)\n",
    "plt.title(\"Общая конверсия\")\n",
    "plt.xlabel(\"Дата\")\n",
    "plt.ylabel(\"Конверсия, %\")\n",
    "plt.grid(axis='y', linestyle=':')\n",
    "plt.tight_layout()\n",
    "plt.savefig('./charts/conversion.png')"
   ]
  },
  {
   "cell_type": "markdown",
   "id": "aae27015-22e4-4e01-8d76-2ff6512318c0",
   "metadata": {},
   "source": [
    "<h4>Стоимость рекламы </h4>"
   ]
  },
  {
   "cell_type": "code",
   "execution_count": null,
   "id": "b718e96f-79f1-4ee2-ba51-82f7784ac937",
   "metadata": {},
   "outputs": [],
   "source": [
    "ads.plot(kind='line', figsize=(14, 7), x='date_group', y='cost', legend=False)\n",
    "plt.title(\"Стоимость рекламы\")\n",
    "plt.xlabel(\"Дата\")\n",
    "plt.ylabel(\"Стоимость, RUB\")\n",
    "plt.grid(axis='y', linestyle=':')\n",
    "plt.tight_layout()\n",
    "plt.savefig('./charts/ads_cost.png')"
   ]
  },
  {
   "cell_type": "markdown",
   "id": "e1f50da1-3be8-4a62-9718-263ac2c3fac5",
   "metadata": {},
   "source": [
    "<h4> Визиты в разрезе рекламных кампаний </h4>"
   ]
  },
  {
   "cell_type": "code",
   "execution_count": null,
   "id": "773b7a62-dc0a-4f5f-acd0-1e0d50b8d145",
   "metadata": {},
   "outputs": [],
   "source": [
    "campaign_periods = ads.groupby(['utm_campaign']).agg(start = ('date_group', 'min'), end = ('date_group', 'max')).reset_index()\n",
    "campaign_periods.head()"
   ]
  },
  {
   "cell_type": "code",
   "execution_count": null,
   "id": "cb1274eb-66fb-42fc-87e6-0dd87b2a9ea4",
   "metadata": {},
   "outputs": [],
   "source": [
    "ads.plot(kind='line', figsize=(14, 7), x='date_group', y='visits', linewidth=0.8, color='black', label='visits', marker='o', markersize=3)\n",
    "color_map = {\n",
    "    'advanced_algorithms_series': 'red',\n",
    "    'intro_to_python_course': 'yellow',\n",
    "    'ui_ux_design_drive': 'purple',\n",
    "    'virtual_reality_workshop': 'green',\n",
    "    'women_in_tech_symposium': 'blue'\n",
    "}\n",
    "for _,row in campaign_periods.iterrows():\n",
    "    plt.axvspan(row['start'], row['end'], label=row['utm_campaign'], color=color_map[row['utm_campaign']], alpha=0.2)\n",
    "\n",
    "plt.title(\"Визиты в разрезе рекламных кампаний\")\n",
    "plt.xlabel(\"Дата\")\n",
    "plt.ylabel(\"Уникальные визиты\")\n",
    "plt.grid(axis='y', linestyle=':')\n",
    "plt.legend(loc='upper center')\n",
    "plt.tight_layout()\n",
    "plt.savefig('./charts/visits_during_marketing.png')"
   ]
  },
  {
   "cell_type": "markdown",
   "id": "7f4495d9-f52a-43df-8579-2c63e4bef608",
   "metadata": {},
   "source": [
    "<h4> Регистрации в разрезе рекламных кампаний </h4>"
   ]
  },
  {
   "cell_type": "code",
   "execution_count": null,
   "id": "2a10368d-8b46-4b08-baaf-0f23de1dbaa6",
   "metadata": {},
   "outputs": [],
   "source": [
    "ads.plot(kind='line', figsize=(14, 7), x='date_group', y='registrations', linewidth=0.8, color='black', label='registrations', marker='o', markersize=3)\n",
    "color_map = {\n",
    "    'advanced_algorithms_series': 'red',\n",
    "    'intro_to_python_course': 'yellow',\n",
    "    'ui_ux_design_drive': 'purple',\n",
    "    'virtual_reality_workshop': 'green',\n",
    "    'women_in_tech_symposium': 'blue'\n",
    "}\n",
    "for _,row in campaign_periods.iterrows():\n",
    "    plt.axvspan(row['start'], row['end'], label=row['utm_campaign'], color=color_map[row['utm_campaign']], alpha=0.2)\n",
    "\n",
    "plt.title(\"Регистрации в разрезе рекламных кампаний\")\n",
    "plt.xlabel(\"Дата\")\n",
    "plt.ylabel(\"Уникальные пользователи\")\n",
    "plt.grid(axis='y', linestyle=':')\n",
    "plt.legend(loc='upper center')\n",
    "plt.tight_layout()\n",
    "plt.savefig('./charts/registrations_during_marketing.png')"
   ]
  }
 ],
 "metadata": {
  "kernelspec": {
   "display_name": "Python 3 (ipykernel)",
   "language": "python",
   "name": "python3"
  },
  "language_info": {
   "codemirror_mode": {
    "name": "ipython",
    "version": 3
   },
   "file_extension": ".py",
   "mimetype": "text/x-python",
   "name": "python",
   "nbconvert_exporter": "python",
   "pygments_lexer": "ipython3",
   "version": "3.12.4"
  }
 },
 "nbformat": 4,
 "nbformat_minor": 5
}
